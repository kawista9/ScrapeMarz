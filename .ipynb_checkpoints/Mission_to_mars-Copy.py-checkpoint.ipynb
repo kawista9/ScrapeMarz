{
 "cells": [
  {
   "cell_type": "code",
   "execution_count": 59,
   "metadata": {},
   "outputs": [],
   "source": [
    "from bs4 import BeautifulSoup as bs\n",
    "import requests\n",
    "from selenium import webdriver\n",
    "import os\n",
    "import time\n",
    "from splinter import Browser\n",
    "import pandas as pd\n",
    "import pymongo"
   ]
  },
  {
   "cell_type": "code",
   "execution_count": 60,
   "metadata": {},
   "outputs": [],
   "source": [
    "conn = 'mongodb://localhost:27017'\n",
    "client = pymongo.MongoClient(conn)\n"
   ]
  },
  {
   "cell_type": "code",
   "execution_count": 61,
   "metadata": {},
   "outputs": [],
   "source": [
    "db = client.mars_db\n",
    "collection = db.hemis"
   ]
  },
  {
   "cell_type": "code",
   "execution_count": 62,
   "metadata": {},
   "outputs": [],
   "source": [
    "nasa_url=\"https://mars.nasa.gov/news/?page=0&per_page=40&order=publish_date+desc%2Ccreated_at+desc&search=&category=19%2C165%2C184%2C204&blank_scope=Latest\"\n"
   ]
  },
  {
   "cell_type": "code",
   "execution_count": 63,
   "metadata": {},
   "outputs": [],
   "source": [
    "#response=requests.get(url)\n",
    "\n",
    "#os.environ[\"webdriver.chrome.driver\"] = chromedriver\n",
    "driver = webdriver.Chrome('C:/webdriver/chromedriver.exe')\n",
    "#driver = webdriver.Chrome(chromedriver)\n",
    "driver.get(nasa_url)\n",
    "time.sleep(5)\n",
    "driver.page_source\n"
   ]
  },
  {
   "cell_type": "code",
   "execution_count": 69,
   "metadata": {},
   "outputs": [],
   "source": [
    "soup = bs(html, 'lxml')\n",
    "news_title=soup.find(\"div\", class_=\"content_title\").text\n",
    "news_p=soup.find(\"div\", class_=\"article_teaser_body\").text\n",
    "\n",
    "    \n"
   ]
  },
  {
   "cell_type": "code",
   "execution_count": 70,
   "metadata": {},
   "outputs": [],
   "source": [
    "executable_path = {'executable_path':'C:/webdriver/chromedriver.exe'}\n",
    "browser = Browser('chrome', **executable_path, headless=False)"
   ]
  },
  {
   "cell_type": "code",
   "execution_count": 71,
   "metadata": {},
   "outputs": [],
   "source": [
    "url2=\"https://www.jpl.nasa.gov/spaceimages/?search=&category=Mars\"\n",
    "browser.visit(url2)"
   ]
  },
  {
   "cell_type": "code",
   "execution_count": 72,
   "metadata": {},
   "outputs": [],
   "source": [
    "html2 = browser.html"
   ]
  },
  {
   "cell_type": "code",
   "execution_count": 73,
   "metadata": {},
   "outputs": [],
   "source": [
    "soup = bs(html2, 'html.parser')\n",
    "link = soup.article['style']"
   ]
  },
  {
   "cell_type": "code",
   "execution_count": 74,
   "metadata": {},
   "outputs": [],
   "source": [
    "start = link.find(\"/space\")\n",
    "stop = link.find(\".jpg'\") + 4\n",
    "featured_image_url = link[start:stop]\n"
   ]
  },
  {
   "cell_type": "code",
   "execution_count": 75,
   "metadata": {},
   "outputs": [],
   "source": [
    "url3=\"https://twitter.com/marswxreport?lang=en\"\n",
    "browser.visit(url3)\n",
    "html3=browser.html"
   ]
  },
  {
   "cell_type": "code",
   "execution_count": 76,
   "metadata": {},
   "outputs": [],
   "source": [
    "soup=bs(html3,\"html.parser\")"
   ]
  },
  {
   "cell_type": "code",
   "execution_count": 77,
   "metadata": {},
   "outputs": [],
   "source": [
    "mw=soup.find(\"div\", class_=\"js-tweet-text-container\").text"
   ]
  },
  {
   "cell_type": "code",
   "execution_count": 78,
   "metadata": {},
   "outputs": [],
   "source": [
    "start=mw.find(\"sol\")\n",
    "stop=mw.find(\" hPapic\")\n",
    "mars_weather=mw[start:stop]\n",
    "\n"
   ]
  },
  {
   "cell_type": "code",
   "execution_count": 79,
   "metadata": {},
   "outputs": [],
   "source": [
    "\n",
    "url4=\"https://astrogeology.usgs.gov/search/results?q=hemisphere+enhanced&k1=target&v1=Mars\"\n",
    "browser.visit(url4)\n"
   ]
  },
  {
   "cell_type": "code",
   "execution_count": 80,
   "metadata": {},
   "outputs": [],
   "source": [
    "html4=browser.html\n",
    "soup=bs(html4,\"html.parser\")"
   ]
  },
  {
   "cell_type": "code",
   "execution_count": 84,
   "metadata": {},
   "outputs": [],
   "source": [
    "hemispheres=soup.find_all(\"div\", class_=\"item\")\n",
    "for hemisphere in hemispheres:\n",
    "    title=hemisphere.find(\"h3\").text.strip()\n",
    "    img_url=hemisphere.a[\"href\"]\n",
    "    \n",
    "    \n",
    "        \n",
    "    posts={\n",
    "        \"title\": title,\n",
    "        \"img_url\":img_url\n",
    "          }\n",
    "        \n",
    "    collection.insert_one(posts)"
   ]
  },
  {
   "cell_type": "code",
   "execution_count": 85,
   "metadata": {},
   "outputs": [],
   "source": [
    "# Display items in MongoDB collection\n",
    "listings = db.hemis.find()\n",
    "\n"
   ]
  },
  {
   "cell_type": "code",
   "execution_count": 88,
   "metadata": {},
   "outputs": [],
   "source": [
    "url5=\"https://space-facts.com/mars/\"\n",
    "tables=pd.read_html(url5)\n",
    "df=tables[0]\n",
    "html_table=(df.to_html()).replace(\"n\",\"\")"
   ]
  }
 ],
 "metadata": {
  "kernelspec": {
   "display_name": "Python 3",
   "language": "python",
   "name": "python3"
  },
  "language_info": {
   "codemirror_mode": {
    "name": "ipython",
    "version": 3
   },
   "file_extension": ".py",
   "mimetype": "text/x-python",
   "name": "python",
   "nbconvert_exporter": "python",
   "pygments_lexer": "ipython3",
   "version": "3.7.1"
  }
 },
 "nbformat": 4,
 "nbformat_minor": 2
}
